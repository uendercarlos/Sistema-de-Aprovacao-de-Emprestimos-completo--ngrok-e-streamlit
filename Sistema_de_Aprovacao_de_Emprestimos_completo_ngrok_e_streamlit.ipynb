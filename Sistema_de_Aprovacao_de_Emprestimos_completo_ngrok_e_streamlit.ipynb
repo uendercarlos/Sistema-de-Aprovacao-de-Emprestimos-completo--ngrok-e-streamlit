{
  "nbformat": 4,
  "nbformat_minor": 0,
  "metadata": {
    "colab": {
      "name": "Sistema de Aprovacao de Emprestimos-completo- ngrok e streamlit",
      "provenance": [],
      "collapsed_sections": [],
      "include_colab_link": true
    },
    "kernelspec": {
      "name": "python3",
      "display_name": "Python 3"
    }
  },
  "cells": [
    {
      "cell_type": "markdown",
      "metadata": {
        "id": "view-in-github",
        "colab_type": "text"
      },
      "source": [
        "<a href=\"https://colab.research.google.com/github/uendercarlos/Sistema-de-Aprovacao-de-Emprestimos-completo--ngrok-e-streamlit/blob/main/Sistema_de_Aprovacao_de_Emprestimos_completo_ngrok_e_streamlit.ipynb\" target=\"_parent\"><img src=\"https://colab.research.google.com/assets/colab-badge.svg\" alt=\"Open In Colab\"/></a>"
      ]
    },
    {
      "cell_type": "code",
      "metadata": {
        "id": "GCWYualeKjw9"
      },
      "source": [
        ""
      ],
      "execution_count": null,
      "outputs": []
    },
    {
      "cell_type": "markdown",
      "metadata": {
        "id": "DXi77YihKrGZ"
      },
      "source": [
        "font>\n",
        "\n",
        "### <font color='GREY'> SAE - Sistema de Aprovação de Empréstimos </font>  \n",
        "\n",
        "![](https://i.gifer.com/MKsN.gif)\n",
        "\n",
        "\n"
      ]
    },
    {
      "cell_type": "markdown",
      "metadata": {
        "id": "28A1XXO92Lo2"
      },
      "source": [
        "# <font color='Black'> **Aula 1 - Extraindo Insights com Ciência de Dados** </font>\n",
        "![](https://cbswire.dk/wp-content/uploads/2020/08/computer-bits.gif)"
      ]
    },
    {
      "cell_type": "markdown",
      "metadata": {
        "id": "Eny3aIZaku8i"
      },
      "source": [
        "#1° Problema de Negócio \n",
        "![](https://s3-us-west-2.amazonaws.com/medici-prod/root/Medici/public/uploads/custom1_fintech-a-new-frontier-for-smartphone-manufacturers.gif?1607010785)"
      ]
    },
    {
      "cell_type": "markdown",
      "metadata": {
        "id": "Wa2VU8HfSGAL"
      },
      "source": [
        "###Um grande conglomerado financeiro internacional está percebendo o potencial ainda inexplorado do mercado de crédito Brasileiro e, aproveitando a era do \"**Open Banking**\", está aterrizando em solo Brasileiro fundando a \n",
        "\n",
        "## **FINTECH \"Crédito Fácil\"**\n",
        "![](https://www.boldbusiness.com/wp-content/uploads/2018/10/Why-Atlanta-Is-Becoming-a-Hot-Bed-for-FinTech-Feature-Image.gif)"
      ]
    },
    {
      "cell_type": "markdown",
      "metadata": {
        "id": "qQ4-8gXATj8z"
      },
      "source": [
        "### Percebendo o potencial dessa Fintech e, dado que o mercado Brasileiro de Crédito é bem Maduro e com índices de inadimplência bem controlado, vários investidores foram atraídos e fizeram aportes de capital, transformando a fintech numa das empresas consideradas **UNICÓRNIO**, que são aquelas com **valor de mercado na casa de Bilhões** de Reais.\n",
        "\n",
        "![](https://miro.medium.com/max/2134/1*e7kEYciuIHfoVu-1vWx0dA.gif)"
      ]
    },
    {
      "cell_type": "markdown",
      "metadata": {
        "id": "y-jSn-ZDUzIj"
      },
      "source": [
        "### Como toda empresa orientada a Dados (*Datadriven*), o RH da empresa está selecionando Cientistas de Dados na Prática, para que eles possam desenvolver um SISTEMA DE APROVAÇÃO DE EMPRÉSTIMO - online - com uma solução de Ciência de Dados.\n",
        "\n",
        "### **Seu objetivo é exatamente esse:** \n",
        "\n",
        "Construir um Sistema de Aprovação de Empréstimos com **Machine Learning e Programação Python**, detalhando cada etapa do processo de construção da sua Máquina Preditiva.\n",
        "![](https://miro.medium.com/max/2600/1*hlaNkSNjNWBDQPzIkwh82w.gif)"
      ]
    },
    {
      "cell_type": "markdown",
      "metadata": {
        "id": "dP0BCfawWV4x"
      },
      "source": [
        "####**Fonte de Dados**: Para desenvolver a Máquina Preditiva com Machine Learning, foram fornecidos dados históricos de crédito dos clientes, que estão no arquivo **\"clientes.csv\"**."
      ]
    },
    {
      "cell_type": "markdown",
      "metadata": {
        "id": "uTF2u0uHbce4"
      },
      "source": [
        "### **Arquitetura dos Dados**\n",
        "\n",
        "![](https://cienciadosdados.com/images/2021/maratona/ad.png)"
      ]
    },
    {
      "cell_type": "markdown",
      "metadata": {
        "id": "-O1cmFgSku8j"
      },
      "source": [
        "# 2° Análise Exploratória dos Dados\n",
        "![](https://cdn.dribbble.com/users/132194/screenshots/2923109/bbt-mdl-dribbble.gif)"
      ]
    },
    {
      "cell_type": "code",
      "metadata": {
        "id": "JjqYtAwGKrGd"
      },
      "source": [
        "## Pacotes\n",
        "import pandas as pd     #Biblioteca de Funções de Manipulação de Dados\n",
        "import seaborn as sns   #Biblioteca de Funções de Visualização Gráfica\n",
        "import warnings\n",
        "warnings.filterwarnings(\"ignore\")"
      ],
      "execution_count": null,
      "outputs": []
    },
    {
      "cell_type": "code",
      "metadata": {
        "id": "wq0FbuZ9XOCd"
      },
      "source": [
        "#Importação dos Dados\n",
        "clientes = pd.read_csv('clientes.csv')"
      ],
      "execution_count": null,
      "outputs": []
    },
    {
      "cell_type": "code",
      "metadata": {
        "colab": {
          "base_uri": "https://localhost:8080/"
        },
        "id": "v02mC8TKdYOR",
        "outputId": "c6be1aba-2346-456d-a0b9-68f785b4184a"
      },
      "source": [
        "#Verifica as Dimensões do Arquivo\n",
        "clientes.shape"
      ],
      "execution_count": null,
      "outputs": [
        {
          "output_type": "execute_result",
          "data": {
            "text/plain": [
              "(614, 13)"
            ]
          },
          "metadata": {
            "tags": []
          },
          "execution_count": 3
        }
      ]
    },
    {
      "cell_type": "code",
      "metadata": {
        "id": "ZPdaos9JZIpK",
        "colab": {
          "base_uri": "https://localhost:8080/",
          "height": 241
        },
        "outputId": "3028f9b3-801d-432b-a940-2d3866fb78c5"
      },
      "source": [
        "#Verificando os primeiros registros\n",
        "clientes.head()"
      ],
      "execution_count": null,
      "outputs": [
        {
          "output_type": "execute_result",
          "data": {
            "text/html": [
              "<div>\n",
              "<style scoped>\n",
              "    .dataframe tbody tr th:only-of-type {\n",
              "        vertical-align: middle;\n",
              "    }\n",
              "\n",
              "    .dataframe tbody tr th {\n",
              "        vertical-align: top;\n",
              "    }\n",
              "\n",
              "    .dataframe thead th {\n",
              "        text-align: right;\n",
              "    }\n",
              "</style>\n",
              "<table border=\"1\" class=\"dataframe\">\n",
              "  <thead>\n",
              "    <tr style=\"text-align: right;\">\n",
              "      <th></th>\n",
              "      <th>cod_cliente</th>\n",
              "      <th>sexo</th>\n",
              "      <th>estado_civil</th>\n",
              "      <th>dependentes</th>\n",
              "      <th>educacao</th>\n",
              "      <th>empregado</th>\n",
              "      <th>renda</th>\n",
              "      <th>renda_conjuge</th>\n",
              "      <th>emprestimo</th>\n",
              "      <th>prestacao_mensal</th>\n",
              "      <th>historico_credito</th>\n",
              "      <th>imovel</th>\n",
              "      <th>aprovacao_emprestimo</th>\n",
              "    </tr>\n",
              "  </thead>\n",
              "  <tbody>\n",
              "    <tr>\n",
              "      <th>0</th>\n",
              "      <td>LP001002</td>\n",
              "      <td>Male</td>\n",
              "      <td>No</td>\n",
              "      <td>0</td>\n",
              "      <td>Graduate</td>\n",
              "      <td>No</td>\n",
              "      <td>5849</td>\n",
              "      <td>0</td>\n",
              "      <td>NaN</td>\n",
              "      <td>360.0</td>\n",
              "      <td>1.0</td>\n",
              "      <td>Urban</td>\n",
              "      <td>Y</td>\n",
              "    </tr>\n",
              "    <tr>\n",
              "      <th>1</th>\n",
              "      <td>LP001003</td>\n",
              "      <td>Male</td>\n",
              "      <td>Yes</td>\n",
              "      <td>1</td>\n",
              "      <td>Graduate</td>\n",
              "      <td>No</td>\n",
              "      <td>4583</td>\n",
              "      <td>1508</td>\n",
              "      <td>128.0</td>\n",
              "      <td>360.0</td>\n",
              "      <td>1.0</td>\n",
              "      <td>Rural</td>\n",
              "      <td>N</td>\n",
              "    </tr>\n",
              "    <tr>\n",
              "      <th>2</th>\n",
              "      <td>LP001005</td>\n",
              "      <td>Male</td>\n",
              "      <td>Yes</td>\n",
              "      <td>0</td>\n",
              "      <td>Graduate</td>\n",
              "      <td>Yes</td>\n",
              "      <td>3000</td>\n",
              "      <td>0</td>\n",
              "      <td>66.0</td>\n",
              "      <td>360.0</td>\n",
              "      <td>1.0</td>\n",
              "      <td>Urban</td>\n",
              "      <td>Y</td>\n",
              "    </tr>\n",
              "    <tr>\n",
              "      <th>3</th>\n",
              "      <td>LP001006</td>\n",
              "      <td>Male</td>\n",
              "      <td>Yes</td>\n",
              "      <td>0</td>\n",
              "      <td>Not Graduate</td>\n",
              "      <td>No</td>\n",
              "      <td>2583</td>\n",
              "      <td>2358</td>\n",
              "      <td>120.0</td>\n",
              "      <td>360.0</td>\n",
              "      <td>1.0</td>\n",
              "      <td>Urban</td>\n",
              "      <td>Y</td>\n",
              "    </tr>\n",
              "    <tr>\n",
              "      <th>4</th>\n",
              "      <td>LP001008</td>\n",
              "      <td>Male</td>\n",
              "      <td>No</td>\n",
              "      <td>0</td>\n",
              "      <td>Graduate</td>\n",
              "      <td>No</td>\n",
              "      <td>6000</td>\n",
              "      <td>0</td>\n",
              "      <td>141.0</td>\n",
              "      <td>360.0</td>\n",
              "      <td>1.0</td>\n",
              "      <td>Urban</td>\n",
              "      <td>Y</td>\n",
              "    </tr>\n",
              "  </tbody>\n",
              "</table>\n",
              "</div>"
            ],
            "text/plain": [
              "  cod_cliente  sexo estado_civil  ... historico_credito imovel aprovacao_emprestimo\n",
              "0    LP001002  Male           No  ...               1.0  Urban                    Y\n",
              "1    LP001003  Male          Yes  ...               1.0  Rural                    N\n",
              "2    LP001005  Male          Yes  ...               1.0  Urban                    Y\n",
              "3    LP001006  Male          Yes  ...               1.0  Urban                    Y\n",
              "4    LP001008  Male           No  ...               1.0  Urban                    Y\n",
              "\n",
              "[5 rows x 13 columns]"
            ]
          },
          "metadata": {
            "tags": []
          },
          "execution_count": 4
        }
      ]
    },
    {
      "cell_type": "code",
      "metadata": {
        "id": "WQ2ooZI_cDxO",
        "colab": {
          "base_uri": "https://localhost:8080/"
        },
        "outputId": "73a45072-caf8-40f7-8d68-d911cd23b3f0"
      },
      "source": [
        "#Verificando as informações dos campos da tabela de dados\n",
        "clientes.info()"
      ],
      "execution_count": null,
      "outputs": [
        {
          "output_type": "stream",
          "text": [
            "<class 'pandas.core.frame.DataFrame'>\n",
            "RangeIndex: 614 entries, 0 to 613\n",
            "Data columns (total 13 columns):\n",
            " #   Column                Non-Null Count  Dtype  \n",
            "---  ------                --------------  -----  \n",
            " 0   cod_cliente           614 non-null    object \n",
            " 1   sexo                  601 non-null    object \n",
            " 2   estado_civil          611 non-null    object \n",
            " 3   dependentes           599 non-null    object \n",
            " 4   educacao              614 non-null    object \n",
            " 5   empregado             582 non-null    object \n",
            " 6   renda                 614 non-null    int64  \n",
            " 7   renda_conjuge         614 non-null    object \n",
            " 8   emprestimo            592 non-null    float64\n",
            " 9   prestacao_mensal      600 non-null    float64\n",
            " 10  historico_credito     564 non-null    float64\n",
            " 11  imovel                614 non-null    object \n",
            " 12  aprovacao_emprestimo  614 non-null    object \n",
            "dtypes: float64(3), int64(1), object(9)\n",
            "memory usage: 62.5+ KB\n"
          ],
          "name": "stdout"
        }
      ]
    },
    {
      "cell_type": "code",
      "metadata": {
        "id": "Gs83IiUGDQ5H",
        "colab": {
          "base_uri": "https://localhost:8080/"
        },
        "outputId": "9286c369-f83a-44b5-a9ae-4e7f9106f526"
      },
      "source": [
        "#Verifica se há valores Nulos/ausentes\n",
        "clientes.isnull().sum()"
      ],
      "execution_count": null,
      "outputs": [
        {
          "output_type": "execute_result",
          "data": {
            "text/plain": [
              "cod_cliente              0\n",
              "sexo                    13\n",
              "estado_civil             3\n",
              "dependentes             15\n",
              "educacao                 0\n",
              "empregado               32\n",
              "renda                    0\n",
              "renda_conjuge            0\n",
              "emprestimo              22\n",
              "prestacao_mensal        14\n",
              "historico_credito       50\n",
              "imovel                   0\n",
              "aprovacao_emprestimo     0\n",
              "dtype: int64"
            ]
          },
          "metadata": {
            "tags": []
          },
          "execution_count": 6
        }
      ]
    },
    {
      "cell_type": "code",
      "metadata": {
        "colab": {
          "base_uri": "https://localhost:8080/"
        },
        "id": "Co1-ZV9Dc0fD",
        "outputId": "83f2e7d4-5c66-4074-fb7e-01a2a209c07b"
      },
      "source": [
        "#verifica se há valores duplicados\n",
        "clientes.duplicated().sum()"
      ],
      "execution_count": null,
      "outputs": [
        {
          "output_type": "execute_result",
          "data": {
            "text/plain": [
              "0"
            ]
          },
          "metadata": {
            "tags": []
          },
          "execution_count": 7
        }
      ]
    },
    {
      "cell_type": "markdown",
      "metadata": {
        "id": "JY5ovhk8c_Yz"
      },
      "source": [
        "### Conhecendo a Distribuição dos Dados de Cada Variável/Campo"
      ]
    },
    {
      "cell_type": "code",
      "metadata": {
        "colab": {
          "base_uri": "https://localhost:8080/",
          "height": 286
        },
        "id": "n6piBxbid5LU",
        "outputId": "f4fc7066-1999-4f2d-826b-e69465e93b9f"
      },
      "source": [
        "#Estatísticas descritivas das variáveis numéricas\n",
        "clientes.describe()"
      ],
      "execution_count": null,
      "outputs": [
        {
          "output_type": "execute_result",
          "data": {
            "text/html": [
              "<div>\n",
              "<style scoped>\n",
              "    .dataframe tbody tr th:only-of-type {\n",
              "        vertical-align: middle;\n",
              "    }\n",
              "\n",
              "    .dataframe tbody tr th {\n",
              "        vertical-align: top;\n",
              "    }\n",
              "\n",
              "    .dataframe thead th {\n",
              "        text-align: right;\n",
              "    }\n",
              "</style>\n",
              "<table border=\"1\" class=\"dataframe\">\n",
              "  <thead>\n",
              "    <tr style=\"text-align: right;\">\n",
              "      <th></th>\n",
              "      <th>renda</th>\n",
              "      <th>emprestimo</th>\n",
              "      <th>prestacao_mensal</th>\n",
              "      <th>historico_credito</th>\n",
              "    </tr>\n",
              "  </thead>\n",
              "  <tbody>\n",
              "    <tr>\n",
              "      <th>count</th>\n",
              "      <td>614.000000</td>\n",
              "      <td>592.000000</td>\n",
              "      <td>600.00000</td>\n",
              "      <td>564.000000</td>\n",
              "    </tr>\n",
              "    <tr>\n",
              "      <th>mean</th>\n",
              "      <td>5403.459283</td>\n",
              "      <td>146.412162</td>\n",
              "      <td>342.00000</td>\n",
              "      <td>0.842199</td>\n",
              "    </tr>\n",
              "    <tr>\n",
              "      <th>std</th>\n",
              "      <td>6109.041673</td>\n",
              "      <td>85.587325</td>\n",
              "      <td>65.12041</td>\n",
              "      <td>0.364878</td>\n",
              "    </tr>\n",
              "    <tr>\n",
              "      <th>min</th>\n",
              "      <td>150.000000</td>\n",
              "      <td>9.000000</td>\n",
              "      <td>12.00000</td>\n",
              "      <td>0.000000</td>\n",
              "    </tr>\n",
              "    <tr>\n",
              "      <th>25%</th>\n",
              "      <td>2877.500000</td>\n",
              "      <td>100.000000</td>\n",
              "      <td>360.00000</td>\n",
              "      <td>1.000000</td>\n",
              "    </tr>\n",
              "    <tr>\n",
              "      <th>50%</th>\n",
              "      <td>3812.500000</td>\n",
              "      <td>128.000000</td>\n",
              "      <td>360.00000</td>\n",
              "      <td>1.000000</td>\n",
              "    </tr>\n",
              "    <tr>\n",
              "      <th>75%</th>\n",
              "      <td>5795.000000</td>\n",
              "      <td>168.000000</td>\n",
              "      <td>360.00000</td>\n",
              "      <td>1.000000</td>\n",
              "    </tr>\n",
              "    <tr>\n",
              "      <th>max</th>\n",
              "      <td>81000.000000</td>\n",
              "      <td>700.000000</td>\n",
              "      <td>480.00000</td>\n",
              "      <td>1.000000</td>\n",
              "    </tr>\n",
              "  </tbody>\n",
              "</table>\n",
              "</div>"
            ],
            "text/plain": [
              "              renda  emprestimo  prestacao_mensal  historico_credito\n",
              "count    614.000000  592.000000         600.00000         564.000000\n",
              "mean    5403.459283  146.412162         342.00000           0.842199\n",
              "std     6109.041673   85.587325          65.12041           0.364878\n",
              "min      150.000000    9.000000          12.00000           0.000000\n",
              "25%     2877.500000  100.000000         360.00000           1.000000\n",
              "50%     3812.500000  128.000000         360.00000           1.000000\n",
              "75%     5795.000000  168.000000         360.00000           1.000000\n",
              "max    81000.000000  700.000000         480.00000           1.000000"
            ]
          },
          "metadata": {
            "tags": []
          },
          "execution_count": 15
        }
      ]
    },
    {
      "cell_type": "code",
      "metadata": {
        "colab": {
          "base_uri": "https://localhost:8080/"
        },
        "id": "mfOh0SJ_eDh1",
        "outputId": "4fe76375-538b-4388-dbe7-3fb96734daac"
      },
      "source": [
        "# Tabela de Frequência da Variável \"aprovacao_emprestimo\" - Nossa Classe ou Label ou Target ou Y ou Variável a ser Predita (o que a gente quer descobrir)\n",
        "clientes.aprovacao_emprestimo.value_counts()"
      ],
      "execution_count": null,
      "outputs": [
        {
          "output_type": "execute_result",
          "data": {
            "text/plain": [
              "Y    422\n",
              "N    192\n",
              "Name: aprovacao_emprestimo, dtype: int64"
            ]
          },
          "metadata": {
            "tags": []
          },
          "execution_count": 19
        }
      ]
    },
    {
      "cell_type": "code",
      "metadata": {
        "colab": {
          "base_uri": "https://localhost:8080/",
          "height": 297
        },
        "id": "G7GH20Lpc96o",
        "outputId": "8ab5135f-2036-45f8-d091-cb98260cc5cf"
      },
      "source": [
        "#Criando Gráfico de Barras para variáveis Categóricas\n",
        "sns.countplot(clientes['aprovacao_emprestimo'])"
      ],
      "execution_count": null,
      "outputs": [
        {
          "output_type": "execute_result",
          "data": {
            "text/plain": [
              "<matplotlib.axes._subplots.AxesSubplot at 0x7f3a07d41990>"
            ]
          },
          "metadata": {
            "tags": []
          },
          "execution_count": 58
        },
        {
          "output_type": "display_data",
          "data": {
            "image/png": "[encoded data removed]",
            "text/plain": [
              "<Figure size 432x288 with 1 Axes>"
            ]
          },
          "metadata": {
            "tags": [],
            "needs_background": "light"
          }
        }
      ]
    },
    {
      "cell_type": "code",
      "metadata": {
        "colab": {
          "base_uri": "https://localhost:8080/",
          "height": 297
        },
        "id": "NporwRzio9r1",
        "outputId": "a946c6a2-0535-427e-ecd2-977be6b4c810"
      },
      "source": [
        "#Criando Gráfico de Barras para variáveis Categóricas\n",
        "sns.countplot(clientes['historico_credito'])"
      ],
      "execution_count": null,
      "outputs": [
        {
          "output_type": "execute_result",
          "data": {
            "text/plain": [
              "<matplotlib.axes._subplots.AxesSubplot at 0x7f3a07d1a7d0>"
            ]
          },
          "metadata": {
            "tags": []
          },
          "execution_count": 59
        },
        {
          "output_type": "display_data",
          "data": {
            "image/png": "[encoded data removed]",
            "text/plain": [
              "<Figure size 432x288 with 1 Axes>"
            ]
          },
          "metadata": {
            "tags": [],
            "needs_background": "light"
          }
        }
      ]
    },
    {
      "cell_type": "code",
      "metadata": {
        "colab": {
          "base_uri": "https://localhost:8080/",
          "height": 299
        },
        "id": "S9JsWz3jh9X7",
        "outputId": "dc50bb60-7288-4437-eea4-9f94d2f28544"
      },
      "source": [
        "#Criando Gráfico de Barras para variáveis Categóricas\n",
        "sns.countplot(clientes['educacao'])"
      ],
      "execution_count": null,
      "outputs": [
        {
          "output_type": "execute_result",
          "data": {
            "text/plain": [
              "<matplotlib.axes._subplots.AxesSubplot at 0x7f3a07cd3490>"
            ]
          },
          "metadata": {
            "tags": []
          },
          "execution_count": 60
        },
        {
          "output_type": "display_data",
          "data": {
            "image/png": "[encoded data removed]",
            "text/plain": [
              "<Figure size 432x288 with 1 Axes>"
            ]
          },
          "metadata": {
            "tags": [],
            "needs_background": "light"
          }
        }
      ]
    },
    {
      "cell_type": "code",
      "metadata": {
        "colab": {
          "base_uri": "https://localhost:8080/",
          "height": 296
        },
        "id": "OxVpy4cFh7i1",
        "outputId": "213d3f19-3c53-43f5-f157-261529cad3d2"
      },
      "source": [
        "#Criando Gráfico de Barras para variáveis Categóricas\n",
        "sns.countplot(clientes['sexo'])"
      ],
      "execution_count": null,
      "outputs": [
        {
          "output_type": "execute_result",
          "data": {
            "text/plain": [
              "<matplotlib.axes._subplots.AxesSubplot at 0x7f3a07c45e10>"
            ]
          },
          "metadata": {
            "tags": []
          },
          "execution_count": 61
        },
        {
          "output_type": "display_data",
          "data": {
            "image/png": "[encoded data removed]",
            "text/plain": [
              "<Figure size 432x288 with 1 Axes>"
            ]
          },
          "metadata": {
            "tags": [],
            "needs_background": "light"
          }
        }
      ]
    },
    {
      "cell_type": "code",
      "metadata": {
        "colab": {
          "base_uri": "https://localhost:8080/",
          "height": 296
        },
        "id": "YetxZJqaiGu6",
        "outputId": "7ee9862d-466a-447c-8b93-315771e52841"
      },
      "source": [
        "#Criando Gráfico de Barras para variáveis Categóricas\n",
        "sns.countplot(clientes['imovel'])"
      ],
      "execution_count": null,
      "outputs": [
        {
          "output_type": "execute_result",
          "data": {
            "text/plain": [
              "<matplotlib.axes._subplots.AxesSubplot at 0x7f3a07c18150>"
            ]
          },
          "metadata": {
            "tags": []
          },
          "execution_count": 62
        },
        {
          "output_type": "display_data",
          "data": {
            "image/png": "[encoded data removed]",
            "text/plain": [
              "<Figure size 432x288 with 1 Axes>"
            ]
          },
          "metadata": {
            "tags": [],
            "needs_background": "light"
          }
        }
      ]
    },
    {
      "cell_type": "code",
      "metadata": {
        "colab": {
          "base_uri": "https://localhost:8080/",
          "height": 299
        },
        "id": "-5BsW7L-iQfK",
        "outputId": "eab7d59c-ca03-423c-b450-b1fb3a74e06d"
      },
      "source": [
        "#Criando Gráfico de Barras para variáveis Categóricas\n",
        "sns.countplot(clientes['educacao'])"
      ],
      "execution_count": null,
      "outputs": [
        {
          "output_type": "execute_result",
          "data": {
            "text/plain": [
              "<matplotlib.axes._subplots.AxesSubplot at 0x7f3a07bf4750>"
            ]
          },
          "metadata": {
            "tags": []
          },
          "execution_count": 63
        },
        {
          "output_type": "display_data",
          "data": {
            "image/png": "[encoded data removed]",
            "text/plain": [
              "<Figure size 432x288 with 1 Axes>"
            ]
          },
          "metadata": {
            "tags": [],
            "needs_background": "light"
          }
        }
      ]
    },
    {
      "cell_type": "code",
      "metadata": {
        "colab": {
          "base_uri": "https://localhost:8080/",
          "height": 296
        },
        "id": "vlhviU9xiSws",
        "outputId": "8f636ec5-b998-486c-ec79-faff3fcb65d9"
      },
      "source": [
        "#Criando Gráfico de Barras para variáveis Categóricas\n",
        "sns.countplot(clientes['dependentes'])"
      ],
      "execution_count": null,
      "outputs": [
        {
          "output_type": "execute_result",
          "data": {
            "text/plain": [
              "<matplotlib.axes._subplots.AxesSubplot at 0x7f3a07b48ad0>"
            ]
          },
          "metadata": {
            "tags": []
          },
          "execution_count": 64
        },
        {
          "output_type": "display_data",
          "data": {
            "image/png": "[encoded data removed]",
            "text/plain": [
              "<Figure size 432x288 with 1 Axes>"
            ]
          },
          "metadata": {
            "tags": [],
            "needs_background": "light"
          }
        }
      ]
    },
    {
      "cell_type": "code",
      "metadata": {
        "colab": {
          "base_uri": "https://localhost:8080/",
          "height": 297
        },
        "id": "Wj0mepDAiVgO",
        "outputId": "2c27a9cb-2c50-4959-e396-40f0219eef16"
      },
      "source": [
        "#Criando Gráfico de Barras para variáveis Categóricas\n",
        "sns.countplot(clientes['estado_civil'])"
      ],
      "execution_count": null,
      "outputs": [
        {
          "output_type": "execute_result",
          "data": {
            "text/plain": [
              "<matplotlib.axes._subplots.AxesSubplot at 0x7f3a07b17310>"
            ]
          },
          "metadata": {
            "tags": []
          },
          "execution_count": 65
        },
        {
          "output_type": "display_data",
          "data": {
            "image/png": "[encoded data removed]",
            "text/plain": [
              "<Figure size 432x288 with 1 Axes>"
            ]
          },
          "metadata": {
            "tags": [],
            "needs_background": "light"
          }
        }
      ]
    },
    {
      "cell_type": "code",
      "metadata": {
        "colab": {
          "base_uri": "https://localhost:8080/",
          "height": 296
        },
        "id": "KfeIQxisiJYt",
        "outputId": "658d13d5-37ee-4f8a-8d4f-927a3dc854fb"
      },
      "source": [
        "#Criando Gráfico de Barras para variáveis Categóricas\n",
        "sns.countplot(clientes['empregado'])"
      ],
      "execution_count": null,
      "outputs": [
        {
          "output_type": "execute_result",
          "data": {
            "text/plain": [
              "<matplotlib.axes._subplots.AxesSubplot at 0x7f3a07a9a450>"
            ]
          },
          "metadata": {
            "tags": []
          },
          "execution_count": 66
        },
        {
          "output_type": "display_data",
          "data": {
            "image/png": "[encoded data removed]",
            "text/plain": [
              "<Figure size 432x288 with 1 Axes>"
            ]
          },
          "metadata": {
            "tags": [],
            "needs_background": "light"
          }
        }
      ]
    },
    {
      "cell_type": "code",
      "metadata": {
        "colab": {
          "base_uri": "https://localhost:8080/",
          "height": 296
        },
        "id": "01BNXezBfS6A",
        "outputId": "141b49d7-c352-45d1-e844-b8e56248d066"
      },
      "source": [
        "#Criando Gráfico de Distribuição para variáveis contínuas\n",
        "sns.histplot(clientes['renda'], bins=50, kde=True)"
      ],
      "execution_count": null,
      "outputs": [
        {
          "output_type": "execute_result",
          "data": {
            "text/plain": [
              "<matplotlib.axes._subplots.AxesSubplot at 0x7f3a089ceb90>"
            ]
          },
          "metadata": {
            "tags": []
          },
          "execution_count": 51
        },
        {
          "output_type": "display_data",
          "data": {
            "image/png": "[encoded data removed]",
            "text/plain": [
              "<Figure size 432x288 with 1 Axes>"
            ]
          },
          "metadata": {
            "tags": [],
            "needs_background": "light"
          }
        }
      ]
    },
    {
      "cell_type": "code",
      "metadata": {
        "id": "tfVDwCwfiCQE"
      },
      "source": [
        "#Distribuição dos dados BOXPLOT\n",
        "clientes.boxplot(column='emprestimo', vert=False )"
      ],
      "execution_count": null,
      "outputs": []
    },
    {
      "cell_type": "code",
      "metadata": {
        "id": "tQ-1BKOFf0eZ"
      },
      "source": [
        "#Criando Gráfico de Distribuição para variáveis contínuas\n",
        "sns.histplot(clientes['emprestimo'], bins=50, kde=True)"
      ],
      "execution_count": null,
      "outputs": []
    },
    {
      "cell_type": "code",
      "metadata": {
        "id": "yzwFFi0_gDaE"
      },
      "source": [
        "# Correlação entre as Variáveis\n",
        "sns.scatterplot(data=clientes, x=\"emprestimo\", y=\"renda\", ) #hue='aprovacao_emprestimo')"
      ],
      "execution_count": null,
      "outputs": []
    },
    {
      "cell_type": "code",
      "metadata": {
        "id": "_57pp-3Hc-Nx"
      },
      "source": [
        "# Criação do Gráfico de dispersão (scatter) conhecido como pairplot\n",
        "sns.pairplot(clientes, hue='aprovacao_emprestimo') # kind=reg é a reta de regressão"
      ],
      "execution_count": null,
      "outputs": []
    },
    {
      "cell_type": "markdown",
      "metadata": {
        "id": "DM2nuyRTku81"
      },
      "source": [
        "# 3° Pré-Processamento dos Dados\n",
        "![](https://cdn.dribbble.com/users/2273038/screenshots/5193715/medical_data_visualization.gif)"
      ]
    },
    {
      "cell_type": "code",
      "metadata": {
        "id": "vZENnSgxDL_U"
      },
      "source": [
        "#Substituindo caracteres por números\n",
        "clientes['sexo']= clientes['sexo'].map({'Male':0, 'Female':1})\n",
        "clientes['estado_civil']= clientes['estado_civil'].map({'No':0, 'Yes':1})\n",
        "clientes['aprovacao_emprestimo']= clientes['aprovacao_emprestimo'].map({'N':0, 'Y':1})"
      ],
      "execution_count": null,
      "outputs": []
    },
    {
      "cell_type": "code",
      "metadata": {
        "id": "cr3Tn755DUgA",
        "colab": {
          "base_uri": "https://localhost:8080/"
        },
        "outputId": "91dbab1e-a17a-44f8-96ad-9757ed91e5eb"
      },
      "source": [
        "# Eliminando valores Nulos\n",
        "clientes = clientes.dropna()\n",
        "clientes.isnull().sum()"
      ],
      "execution_count": null,
      "outputs": [
        {
          "output_type": "execute_result",
          "data": {
            "text/plain": [
              "cod_cliente             0\n",
              "sexo                    0\n",
              "estado_civil            0\n",
              "dependentes             0\n",
              "educacao                0\n",
              "empregado               0\n",
              "renda                   0\n",
              "renda_conjuge           0\n",
              "emprestimo              0\n",
              "prestacao_mensal        0\n",
              "historico_credito       0\n",
              "imovel                  0\n",
              "aprovacao_emprestimo    0\n",
              "dtype: int64"
            ]
          },
          "metadata": {
            "tags": []
          },
          "execution_count": 5
        }
      ]
    },
    {
      "cell_type": "code",
      "metadata": {
        "id": "m9LAWTgzDXTE",
        "colab": {
          "base_uri": "https://localhost:8080/"
        },
        "outputId": "8ba2f0b4-a397-477e-fa18-bf7a61f3b388"
      },
      "source": [
        "# Separando variáveis Explicativas e Variável TARGET\n",
        "X = clientes[['sexo', 'estado_civil', 'renda', 'emprestimo', 'historico_credito']]\n",
        "y = clientes.aprovacao_emprestimo\n",
        "X.shape, y.shape"
      ],
      "execution_count": null,
      "outputs": [
        {
          "output_type": "execute_result",
          "data": {
            "text/plain": [
              "((480, 5), (480,))"
            ]
          },
          "metadata": {
            "tags": []
          },
          "execution_count": 6
        }
      ]
    },
    {
      "cell_type": "code",
      "metadata": {
        "id": "ojgYarIfDavz"
      },
      "source": [
        "# importando Pacote para Amostragem dos Dados\n",
        "from sklearn.model_selection import train_test_split"
      ],
      "execution_count": null,
      "outputs": []
    },
    {
      "cell_type": "code",
      "metadata": {
        "id": "oIUK1ZNqu7rF"
      },
      "source": [
        "# Realizando Amostragem dosa Dados\n",
        "x_train, x_teste, y_train, y_teste = train_test_split(X,y, test_size = 0.2, random_state = 7)"
      ],
      "execution_count": null,
      "outputs": []
    },
    {
      "cell_type": "markdown",
      "metadata": {
        "id": "PpHbZsBZ2aDB"
      },
      "source": [
        "# <font color='Black'> **Criando uma Aplicação WEB com sua Máquina Preditiva** </font>\n",
        "\n"
      ]
    },
    {
      "cell_type": "markdown",
      "metadata": {
        "id": "LI4TUsUJ0u66"
      },
      "source": [
        "# <font color='Blue'>6° Implementando a Maquina Preditiva  para a Fintech Crédito Fácil</font>\n",
        "![](https://buhgalteru.kz/wp-content/uploads/2020/09/robot.gif)\n"
      ]
    },
    {
      "cell_type": "markdown",
      "metadata": {
        "id": "kEUIRvSlVy4H"
      },
      "source": [
        "![](https://cienciadosdados.com/images/2021/Design_sem_nome_10.png)"
      ]
    },
    {
      "cell_type": "markdown",
      "metadata": {
        "id": "l8D_ZDsg9vVA"
      },
      "source": [
        "### **Guia Passo a Passo** para Implementação do Sistema de Aprovação de Empréstimo Online:"
      ]
    },
    {
      "cell_type": "markdown",
      "metadata": {
        "id": "BWnqIW7vWONv"
      },
      "source": [
        "###### **Observação**: Caso não esteja fazendo as aulas sequencialmente e tenha desligado a sessão no Colab, reexecute o Script abaixo antes de ir para o 1°Passo."
      ]
    },
    {
      "cell_type": "code",
      "metadata": {
        "id": "c6kMyerHB4tv"
      },
      "source": [
        "## Pacotes\n",
        "import pandas as pd     #Biblioteca de Funções de Manipulação de Dados\n",
        "import seaborn as sns   #Biblioteca de Funções de Visualização Gráfica\n",
        "import warnings\n",
        "warnings.filterwarnings(\"ignore\")\n",
        "\n",
        "#Importação dos Dados\n",
        "clientes = pd.read_csv('/content/clientes.csv')\n",
        "\n",
        "#Substituindo caracteres por números\n",
        "clientes['sexo']= clientes['sexo'].map({'Male':0, 'Female':1})\n",
        "clientes['estado_civil']= clientes['estado_civil'].map({'No':0, 'Yes':1})\n",
        "clientes['aprovacao_emprestimo']= clientes['aprovacao_emprestimo'].map({'N':0, 'Y':1})\n",
        "\n",
        "# Eliminando valores Nulos\n",
        "clientes = clientes.dropna()\n",
        "\n",
        "# Separando variáveis Explicativas e Variável TARGET\n",
        "X = clientes[['sexo', 'estado_civil', 'renda', 'emprestimo', 'historico_credito']]\n",
        "y = clientes.aprovacao_emprestimo\n",
        "X.shape, y.shape\n",
        "\n",
        "# importando Pacote para Amostragem dos Dados\n",
        "from sklearn.model_selection import train_test_split\n",
        "\n",
        "# Realizando Amostragem dosa Dados\n",
        "x_train, x_teste, y_train, y_teste = train_test_split(X,y, test_size = 0.2, random_state = 7)\n",
        "\n",
        "#Importando Pacotes para Construção das Máquinas Preditivas com Machine Learning\n",
        "\n",
        "## Algoritmo Random Forest\n",
        "from sklearn.ensemble import RandomForestClassifier \n",
        "\n",
        "#Importando a Métrica de Avaliação\n",
        "from sklearn.metrics import accuracy_score\n",
        "\n",
        "# Criando a Máquina Preditiva com o Random Forest \n",
        "maquina = RandomForestClassifier(max_depth=4, random_state = 7) \n",
        "maquina.fit(x_train, y_train)\n",
        "\n",
        "#Avaliando a Acurácia da Máquina Preditiva Baseline com dados de Teste\n",
        "pred_maquina_teste = maquina.predict(x_teste)\n",
        "accuracy_score(y_teste,pred_maquina_teste)\n",
        "\n",
        "#Comando de Salvamento da Máquina Preditiva\n",
        "import pickle \n",
        "pickle_out = open(\"maquina_preditiva.pkl\", mode = \"wb\") \n",
        "pickle.dump(maquina, pickle_out) \n",
        "pickle_out.close()"
      ],
      "execution_count": null,
      "outputs": []
    },
    {
      "cell_type": "markdown",
      "metadata": {
        "id": "eZ5JvDVuw1Eq"
      },
      "source": [
        "##1° Instalar o Pacote para Conexão do nosso Sistema na WEB"
      ]
    },
    {
      "cell_type": "code",
      "metadata": {
        "id": "SSaPBHuDDwx3"
      },
      "source": [
        "#instalação do Pacote para Conexão do nosso Sistema na WEB \n",
        "!pip install -q pyngrok\n"
      ],
      "execution_count": null,
      "outputs": []
    },
    {
      "cell_type": "markdown",
      "metadata": {
        "id": "ic15OJwXw7Xv"
      },
      "source": [
        "##2° Instalar o Pacote para Implementação do nosso Sistema na WEB"
      ]
    },
    {
      "cell_type": "code",
      "metadata": {
        "id": "dSIEmVidDx_G"
      },
      "source": [
        "#instalação dos Pacotes para Implementação do nosso Sistema na WEB\n",
        "!pip install -q streamlit\n",
        "!pip install -q streamlit_ace\n"
      ],
      "execution_count": null,
      "outputs": []
    },
    {
      "cell_type": "markdown",
      "metadata": {
        "id": "FuX_oCBC2Ylp"
      },
      "source": [
        "## 3° Criar o Sistema  "
      ]
    },
    {
      "cell_type": "code",
      "metadata": {
        "id": "1ydtW0TPEY7t",
        "colab": {
          "base_uri": "https://localhost:8080/"
        },
        "outputId": "0f09f5e8-ff8b-4914-b915-5ba7cc673ade"
      },
      "source": [
        "#Comando para Criar o Sistema no arquivo app.py\n",
        "%%writefile app.py\n",
        "\n",
        "#Importando Pacotes \n",
        "import pickle\n",
        "import streamlit as st\n",
        "import streamlit.components.v1 as components\n",
        " \n",
        "# Carregando a Máquina Preditiva\n",
        "pickle_in = open('maquina_preditiva.pkl', 'rb') \n",
        "maquina_preditiva = pickle.load(pickle_in)\n",
        "\n",
        "#Manter a sessão em cache \n",
        "@st.cache()\n",
        "  \n",
        "# Criando a função que irá fazer a predição usando os dados impostados pelo usuário do Sistema \n",
        "def prediction(sexo, estado_civil, renda, emprestimo, historico_credito):   \n",
        " \n",
        "    # Pre-processando a entrada do Usuário    \n",
        "    if sexo == \"Masculino\":\n",
        "        sexo = 0\n",
        "    else:\n",
        "        sexo = 1\n",
        " \n",
        "    if estado_civil == \"Solteiro(a)\":\n",
        "        estado_civil = 0\n",
        "    else:\n",
        "        estado_civil = 1\n",
        " \n",
        "    if historico_credito == \"Débitos Pendentes\":\n",
        "        historico_credito = 0\n",
        "    else:\n",
        "        historico_credito = 1  \n",
        " \n",
        "    emprestimo = emprestimo / 1000\n",
        " \n",
        "    # Fazendo Predições\n",
        "    prediction = maquina_preditiva.predict( \n",
        "        [[sexo, estado_civil, renda, emprestimo, historico_credito]])\n",
        "     \n",
        "    if prediction == 0:\n",
        "        pred = 'Rejeitado'\n",
        "    else:\n",
        "        pred = 'Aprovado'\n",
        "    return pred\n",
        "      \n",
        "  \n",
        "# Essa função é para criação da webpage  \n",
        "def main():  \n",
        "\n",
        "\n",
        "\n",
        "\n",
        "    # Elementos da webpage\n",
        "    # Nesse Ponto vc deve Personalizar o Sistema com sua Marca\n",
        "    html_temp = \"\"\" \n",
        "                <div style =\"background-color:black;padding:13px\"> \n",
        "                <h1 style =\"color:white;text-align:center;\"></h1> \n",
        "                <h2 style =\"color:white;text-align:center;\">Sistema de Aprovação de Empréstimos</h2> \n",
        "                <h2 style =\"color:white;text-align:center;\">By Uender Carlos</h2>\n",
        "                </div> \n",
        "                \"\"\"\n",
        "\n",
        "    \n",
        "      \n",
        "    # Função do stramlit que faz o display da webpage\n",
        "    st.markdown(html_temp, unsafe_allow_html = True) \n",
        "\n",
        "    \n",
        "    # embed streamlit docs in a streamlit app\n",
        "    #components.iframe(\"https://docs.streamlit.io/en/latest\")\n",
        "\n",
        "      \n",
        "    # As linhas abaixo criam as caixas na qual o usuário vai entrar com dados da pessoa que quer o empréstimo para fazer a Predição\n",
        "    sexo = st.selectbox('Sexo',(\"Masculino\",\"Feminino\"))\n",
        "    estado_civil = st.selectbox('Estado Civil',(\"Solteiro(a)\",\"Casado(a)\")) \n",
        "    renda = st.number_input(\"Renda Mensal\") \n",
        "    emprestimo = st.number_input(\"Valor Total do Empréstimo\")\n",
        "    historico_credito = st.selectbox('Histórico de Créditos',(\"Sem Débitos\",\"Débitos Pendentes\"))\n",
        "    result =\"\"\n",
        "      \n",
        "    #Quando o Usuário clicar no botão \"Verificar\" a Máquina Preditiva faz seu trabalho\n",
        "    if st.button(\"Verificar\"): \n",
        "        result = prediction(sexo, estado_civil, renda, emprestimo, historico_credito) \n",
        "        st.success('O empréstimo foi {}'.format(result))\n",
        "        print(emprestimo)\n",
        "     \n",
        "if __name__=='__main__': \n",
        "    main()\n"
      ],
      "execution_count": null,
      "outputs": [
        {
          "output_type": "stream",
          "text": [
            "Overwriting app.py\n"
          ],
          "name": "stdout"
        }
      ]
    },
    {
      "cell_type": "markdown",
      "metadata": {
        "id": "BEDDT7-SxQ_V"
      },
      "source": [
        "##4° Executar o Sistema"
      ]
    },
    {
      "cell_type": "code",
      "metadata": {
        "id": "XZNzucf0EZIa"
      },
      "source": [
        "#Executa o sistema\n",
        "!streamlit run app.py &>/dev/null&"
      ],
      "execution_count": null,
      "outputs": []
    },
    {
      "cell_type": "code",
      "metadata": {
        "id": "q_9cUexfYEOU"
      },
      "source": [
        "#ENCERRAR TUNEL\n",
        "ngrok.disconnect(public_url)"
      ],
      "execution_count": null,
      "outputs": []
    },
    {
      "cell_type": "markdown",
      "metadata": {
        "id": "QwFdBpu_xamW"
      },
      "source": [
        "##5° Criar a Conexão do nosso Sistema na WEB"
      ]
    },
    {
      "cell_type": "code",
      "metadata": {
        "id": "LZ5jaY4GGC88"
      },
      "source": [
        "# Importando a Biblioteca para Conexão do nosso Sistema na WEB \n",
        "from pyngrok import ngrok"
      ],
      "execution_count": null,
      "outputs": []
    },
    {
      "cell_type": "markdown",
      "metadata": {
        "id": "zyWvfoAMxhAc"
      },
      "source": [
        "##6° Publicar nosso Sistema numa URL"
      ]
    },
    {
      "cell_type": "code",
      "metadata": {
        "id": "r8VfOxWzUmiK",
        "colab": {
          "base_uri": "https://localhost:8080/"
        },
        "outputId": "c0adfe09-a439-4a7d-b1ee-1cef27b44bae"
      },
      "source": [
        "#Publica o sistema numa URL\n",
        "public_url = ngrok.connect('8501')"
      ],
      "execution_count": null,
      "outputs": [
        {
          "output_type": "stream",
          "text": [
            ""
          ],
          "name": "stdout"
        }
      ]
    },
    {
      "cell_type": "markdown",
      "metadata": {
        "id": "6VgBGpnUxn9u"
      },
      "source": [
        "##7° Abrir o Sistema via Link que contém a palavra ngrok.io"
      ]
    },
    {
      "cell_type": "code",
      "metadata": {
        "id": "i3xz6K0kTsiG",
        "colab": {
          "base_uri": "https://localhost:8080/"
        },
        "outputId": "ff294455-88d5-4889-fa0e-b5d0e92e1d57"
      },
      "source": [
        "#URL do sistema\n",
        "public_url"
      ],
      "execution_count": null,
      "outputs": [
        {
          "output_type": "execute_result",
          "data": {
            "text/plain": [
              "<NgrokTunnel: \"http://a45f40260e58.ngrok.io\" -> \"http://localhost:8501\">"
            ]
          },
          "metadata": {
            "tags": []
          },
          "execution_count": 15
        }
      ]
    },
    {
      "cell_type": "markdown",
      "metadata": {
        "id": "XTRc7NjBKG65"
      },
      "source": [
        "# Fim"
      ]
    }
  ]
}